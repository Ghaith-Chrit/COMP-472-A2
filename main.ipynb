{
 "cells": [
  {
   "cell_type": "markdown",
   "metadata": {},
   "source": [
    "### COMP - 472\n",
    "Assignment Two\n",
    "\n",
    "---------"
   ]
  },
  {
   "cell_type": "markdown",
   "metadata": {},
   "source": [
    "#### Task 1"
   ]
  },
  {
   "cell_type": "markdown",
   "metadata": {},
   "source": [
    "1) Add imports"
   ]
  },
  {
   "cell_type": "code",
   "execution_count": 1,
   "metadata": {},
   "outputs": [],
   "source": [
    "import os\n",
    "import csv\n",
    "import random\n",
    "import pandas as pd\n",
    "import gensim.downloader as api\n",
    "from gensim.models import KeyedVectors"
   ]
  },
  {
   "cell_type": "markdown",
   "metadata": {},
   "source": [
    "2) Load model"
   ]
  },
  {
   "cell_type": "code",
   "execution_count": 2,
   "metadata": {},
   "outputs": [],
   "source": [
    "model_name = 'word2vec-google-news-300'\n",
    "model = KeyedVectors.load_word2vec_format(api.load(model_name, return_path=True), binary=True) "
   ]
  },
  {
   "cell_type": "markdown",
   "metadata": {},
   "source": [
    "3) Load test dataset"
   ]
  },
  {
   "cell_type": "code",
   "execution_count": 3,
   "metadata": {},
   "outputs": [],
   "source": [
    "dataset_path = 'A2-DataSet/synonym.csv'\n",
    "df = pd.read_csv(dataset_path)"
   ]
  },
  {
   "cell_type": "markdown",
   "metadata": {},
   "source": [
    "4) Run the model on test data and report result"
   ]
  },
  {
   "cell_type": "code",
   "execution_count": 4,
   "metadata": {},
   "outputs": [],
   "source": [
    "details_output_file = os.path.join('output', f'{model_name}-details.csv')\n",
    "analysis_output_file = os.path.join('output', f'analysis.csv')\n",
    "\n",
    "correct_labels = 0\n",
    "answered_questions = 0"
   ]
  },
  {
   "cell_type": "code",
   "execution_count": 5,
   "metadata": {},
   "outputs": [],
   "source": [
    "with open(details_output_file, mode='w', newline='') as details_file:\n",
    "  details_writer = csv.writer(details_file)\n",
    "  details_writer.writerow(['question-word', 'correct-answer', 'guess-word', 'label'])\n",
    "\n",
    "  for _, row in df.iterrows():\n",
    "    question_word, correct_answer, guess_words = row['question'], row['answer'], row[2:].to_list()\n",
    "    guess_words_in_vocab = [word for word in guess_words if word in model.index_to_key]\n",
    "\n",
    "    if question_word in model.index_to_key and len(guess_words_in_vocab) > 0:\n",
    "      most_similar_word = model.most_similar_to_given(question_word, guess_words_in_vocab)\n",
    "      label = 'correct' if most_similar_word == correct_answer else 'wrong'\n",
    "      correct_labels += 1 if label == 'correct' else 0\n",
    "      answered_questions += 1\n",
    "    else:\n",
    "      label = 'guess'\n",
    "      most_similar_word = random.choice(guess_words)\n",
    "\n",
    "    details_writer.writerow([question_word, correct_answer, most_similar_word, label])"
   ]
  },
  {
   "cell_type": "code",
   "execution_count": 13,
   "metadata": {},
   "outputs": [],
   "source": [
    "accuracy = correct_labels / answered_questions if answered_questions > 0 else 0\n",
    "\n",
    "with open(analysis_output_file, mode='a+', newline='') as analysis_file:\n",
    "  analysis_writer = csv.writer(analysis_file)\n",
    "  analysis_writer.writerow(['Model Name', 'Vocab Length', 'Number of Correct Labels', 'Number of Answered Questions', 'Accuracy of Answered Questions'])\n",
    "  analysis_writer.writerow([model_name, len(model.index_to_key), correct_labels, answered_questions, accuracy])"
   ]
  },
  {
   "cell_type": "markdown",
   "metadata": {},
   "source": [
    "------------\n",
    "#### Task 2"
   ]
  },
  {
   "cell_type": "code",
   "execution_count": null,
   "metadata": {},
   "outputs": [],
   "source": [
    "# TODO: Add code for task 2 here"
   ]
  },
  {
   "cell_type": "markdown",
   "metadata": {},
   "source": [
    "------------\n",
    "#### Task 3"
   ]
  },
  {
   "cell_type": "code",
   "execution_count": null,
   "metadata": {},
   "outputs": [],
   "source": [
    "# TODO: Add code for task 3 here"
   ]
  }
 ],
 "metadata": {
  "kernelspec": {
   "display_name": "Python 3",
   "language": "python",
   "name": "python3"
  },
  "language_info": {
   "codemirror_mode": {
    "name": "ipython",
    "version": 3
   },
   "file_extension": ".py",
   "mimetype": "text/x-python",
   "name": "python",
   "nbconvert_exporter": "python",
   "pygments_lexer": "ipython3",
   "version": "3.10.5"
  }
 },
 "nbformat": 4,
 "nbformat_minor": 2
}
